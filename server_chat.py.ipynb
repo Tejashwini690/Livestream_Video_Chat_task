{
 "cells": [
  {
   "cell_type": "markdown",
   "metadata": {},
   "source": [
    "# 🚀 Server side videochat code🤳......!!!!"
   ]
  },
  {
   "cell_type": "code",
   "execution_count": null,
   "metadata": {},
   "outputs": [],
   "source": [
    "import socket, cv2, pickle,struct\n",
    "\n",
    "# ----->Socket Creation\n",
    "server_socket = socket.socket(socket.AF_INET,socket.SOCK_STREAM)\n",
    "\n",
    "#getting host ip\n",
    "host_name  = socket.gethostname()\n",
    "host_ip = socket.gethostbyname(host_name)\n",
    "\n",
    "#port as user input\n",
    "port = int(input('Enter the port number----->'))\n",
    "socket_address = (host_ip,port)\n",
    "\n",
    "# ---->Socket binding\n",
    "server_socket.bind(socket_address)\n",
    "\n",
    "# ----->Socket listening\n",
    "server_socket.listen(5)\n",
    "print(\"listening at: \",socket_address)\n",
    "\n",
    "# ------>Socket Accepting Clients\n",
    "while True:\n",
    "    client_socket,addr = server_socket.accept()\n",
    "    print('got request from: ',addr)\n",
    "    if client_socket:\n",
    "        vid = cv2.VideoCapture(0)\n",
    "        \n",
    "        while(vid.isOpened()):\n",
    "            img,frame = vid.read()\n",
    "            a = pickle.dumps(frame)\n",
    "            message = struct.pack(\"Q\",len(a))+a\n",
    "            client_socket.sendall(message)\n",
    "            \n",
    "            cv2.imshow('server cam',frame)\n",
    "            key = cv2.waitKey(1) & 0xFF\n",
    "            if key ==ord('q'):\n",
    "                client_socket.close()"
   ]
  },
  {
   "cell_type": "code",
   "execution_count": null,
   "metadata": {},
   "outputs": [],
   "source": []
  }
 ],
 "metadata": {
  "kernelspec": {
   "display_name": "Python 3",
   "language": "python",
   "name": "python3"
  },
  "language_info": {
   "codemirror_mode": {
    "name": "ipython",
    "version": 3
   },
   "file_extension": ".py",
   "mimetype": "text/x-python",
   "name": "python",
   "nbconvert_exporter": "python",
   "pygments_lexer": "ipython3",
   "version": "3.8.3"
  }
 },
 "nbformat": 4,
 "nbformat_minor": 4
}
